{
 "cells": [
  {
   "cell_type": "markdown",
   "id": "663dfe8a",
   "metadata": {},
   "source": [
    "## Task 2: Content-Based Recommendation\n",
    "\n",
    "Implement a new recommendation algorithm that uses the MovieLens Tag Genome to recommend movies that are similar to a user's rated movies. The Tag Genome comes with the ML-33M data set, in the genome-scores.csv\n",
    "file. This file contains three columns: movie ID, tag ID, and relevance (the meaning of the tag IDs is in genome-tags.csv). It is complete, in that it has relevance scores for every movie for a large number of tags, although it does not cover every movie in the MovieLens data. You can think of this file as defining a vector for every movie: an approximately 1100-dimensional vector describing the movie in terms of Tag Genome tags. \n",
    "\n",
    "### Objectives\n",
    "2.1. Write an algorithm by:\n",
    "* Computing a user tag vector by taking the average of the tag vectors for the movies the user has watched, weighted by their rating (that is, the user's value for a tag is the average of their movies' value for that tag. You can do this relatively efficiently with NumPy vectorized operations.).\n",
    "* Select a user and get the top 10 recommendations that have not been rated by that user before. This is done by computing the Pearson correlation between the user tag vector and each of the movie's tag vector not rated by the user.\n",
    "* Suppose that the content based filtering of Task 1 is an ideal state-of-the-art system where it always outputs an ideal relevant top 10 recommendation movies. How do these recommendations of this task compare to the content-based filtering done in Task 1 for the same user you selected? Implement and compute the nDCG@10 from scratch of the ranking of that user. Example:\n",
    " \n",
    " Ideal system ranking for user i (fixed): ``[1,1,1,1,1,1,1,1,1,1]`` <br>\n",
    " An example of your algorithm output ranking for user i: ``[0,1,0,1,1,0,1,0,1,1]`` <br>\n",
    " \n",
    " where 1 in the ideal ranking indicates that the item is relevant, and 1 in your algorithm indicates that the item is relevant because it is found in the rankings of the ideal system regardless of the position of the item in the ranking@10."
   ]
  },
  {
   "cell_type": "code",
   "execution_count": 7,
   "id": "1c04b0f8",
   "metadata": {},
   "outputs": [],
   "source": [
    "import numpy as np\n",
    "import pandas as pd"
   ]
  },
  {
   "cell_type": "code",
   "execution_count": 8,
   "id": "efc718e9",
   "metadata": {},
   "outputs": [],
   "source": [
    "genome_scores = pd.read_csv(\"ml-latest/genome-scores.csv\")\n",
    "genome_tags = pd.read_csv(\"ml-latest/genome-tags.csv\")\n",
    "ratings = pd.read_csv(\"ml-latest/ratings.csv\")\n"
   ]
  },
  {
   "cell_type": "code",
   "execution_count": 9,
   "id": "f1224d69",
   "metadata": {},
   "outputs": [],
   "source": [
    "def compute_user_tag_vector(user_id, ratings, genome_scores):\n",
    "    # Filter ratings for user\n",
    "    user_ratings = ratings[ratings['userId'] == user_id]\n",
    "    \n",
    "    # merge ratings with genome scores on movieId\n",
    "    user_genome_scores = user_ratings.merge(genome_scores, on='movieId')\n",
    "    \n",
    "    # weighted sum of tag relevances\n",
    "    weighted_scores = user_genome_scores['rating'] * user_genome_scores['relevance']\n",
    "    total_weight = user_ratings['rating'].sum()\n",
    "    \n",
    "    #compute average tag relevance per tag\n",
    "    user_vector = weighted_scores.groupby(user_genome_scores['tagId']).sum() / total_weight\n",
    "    return user_vector\n"
   ]
  },
  {
   "cell_type": "code",
   "execution_count": 10,
   "id": "49feef5c",
   "metadata": {},
   "outputs": [],
   "source": [
    "from scipy.stats import pearsonr\n",
    "\n",
    "def recommend_movies(user_id, ratings, genome_scores, n=10):\n",
    "    user_vector = compute_user_vector(user_id, ratings, genome_scores)\n",
    "    \n",
    "    # list of user rated movies\n",
    "    rated_movies = ratings[ratings['userId'] == user_id]['movieId'].values\n",
    "    \n",
    "    # list of movies that havnt been rated\n",
    "    unrated_movies = genome_scores[~genome_scores['movieId'].isin(rated_movies)].drop_duplicates(subset='movieId')\n",
    "    \n",
    "    correlations = []\n",
    "    for movie in unrated_movies['movieId'].values:\n",
    "        movie_vector = genome_scores[genome_scores['movieId'] == movie]['relevance'].values\n",
    "        corr, _ = pearsonr(user_vector, movie_vector)\n",
    "        correlations.append((movie, corr))\n",
    "    \n",
    "    # Sort based on correlation values\n",
    "    sorted_movies = sorted(correlations, key=lambda x: x[1], reverse=True)\n",
    "    \n",
    "    # Top N movie recommendations\n",
    "    recommended_movies = [movie[0] for movie in sorted_movies[:n]]\n",
    "    \n",
    "    return recommended_movies\n"
   ]
  },
  {
   "cell_type": "code",
   "execution_count": 11,
   "id": "fe71032e",
   "metadata": {},
   "outputs": [
    {
     "name": "stdout",
     "output_type": "stream",
     "text": [
      "nDCG@10: 0.522032859637427\n"
     ]
    }
   ],
   "source": [
    "def compute_ndcg(ideal, predicted):\n",
    "    def dcg(scores):\n",
    "        return sum([(2**scores[i] - 1) / np.log2(i + 2) for i in range(len(scores))])\n",
    "    \n",
    "    idcg = dcg(ideal)\n",
    "    actual_dcg = dcg(predicted)\n",
    "    return actual_dcg / idcg\n",
    "\n",
    "ideal_ranking = [1, 1, 1, 1, 1, 1, 1, 1, 1, 1]\n",
    "predicted_ranking = [0, 1, 0, 1, 1, 0, 1, 0, 1, 1]####copy in the predicted results from task 1 and compute\n",
    "\n",
    "ndcg = compute_ndcg(ideal_ranking, predicted_ranking)\n",
    "print(f\"nDCG@10: {ndcg}\")\n",
    "\n"
   ]
  },
  {
   "cell_type": "code",
   "execution_count": null,
   "id": "0c9b1576",
   "metadata": {},
   "outputs": [],
   "source": [
    "\n"
   ]
  },
  {
   "cell_type": "code",
   "execution_count": null,
   "id": "7de906d4",
   "metadata": {},
   "outputs": [],
   "source": []
  },
  {
   "cell_type": "code",
   "execution_count": null,
   "id": "9c4e221e",
   "metadata": {},
   "outputs": [],
   "source": []
  },
  {
   "cell_type": "code",
   "execution_count": null,
   "id": "b41b5c22",
   "metadata": {},
   "outputs": [],
   "source": []
  },
  {
   "cell_type": "code",
   "execution_count": null,
   "id": "5880fc3b",
   "metadata": {},
   "outputs": [],
   "source": []
  }
 ],
 "metadata": {
  "kernelspec": {
   "display_name": "Python 3 (ipykernel)",
   "language": "python",
   "name": "python3"
  },
  "language_info": {
   "codemirror_mode": {
    "name": "ipython",
    "version": 3
   },
   "file_extension": ".py",
   "mimetype": "text/x-python",
   "name": "python",
   "nbconvert_exporter": "python",
   "pygments_lexer": "ipython3",
   "version": "3.10.12"
  }
 },
 "nbformat": 4,
 "nbformat_minor": 5
}
