{
 "cells": [
  {
   "cell_type": "code",
<<<<<<< HEAD
   "execution_count": 3,
=======
   "execution_count": 1,
>>>>>>> 4821f62b7f17efca60ce6f7c38e3509587088ba3
   "id": "9aa24189",
   "metadata": {},
   "outputs": [],
   "source": [
    "import numpy as np\n",
    "import pandas as pd\n",
    "import sklearn\n",
    "import matplotlib.pyplot as plt\n",
    "import seaborn as sns\n",
    "\n",
    "import warnings\n",
    "warnings.simplefilter(action='ignore', category=FutureWarning)"
   ]
  },
  {
   "cell_type": "code",
<<<<<<< HEAD
   "execution_count": 4,
=======
   "execution_count": 2,
>>>>>>> 4821f62b7f17efca60ce6f7c38e3509587088ba3
   "id": "5c000185",
   "metadata": {},
   "outputs": [
    {
     "data": {
      "text/html": [
       "<div>\n",
       "<style scoped>\n",
       "    .dataframe tbody tr th:only-of-type {\n",
       "        vertical-align: middle;\n",
       "    }\n",
       "\n",
       "    .dataframe tbody tr th {\n",
       "        vertical-align: top;\n",
       "    }\n",
       "\n",
       "    .dataframe thead th {\n",
       "        text-align: right;\n",
       "    }\n",
       "</style>\n",
       "<table border=\"1\" class=\"dataframe\">\n",
       "  <thead>\n",
       "    <tr style=\"text-align: right;\">\n",
       "      <th></th>\n",
       "      <th>movieId</th>\n",
       "      <th>title</th>\n",
       "      <th>genres</th>\n",
       "    </tr>\n",
       "  </thead>\n",
       "  <tbody>\n",
       "    <tr>\n",
       "      <th>0</th>\n",
       "      <td>1</td>\n",
       "      <td>Toy Story (1995)</td>\n",
       "      <td>Adventure|Animation|Children|Comedy|Fantasy</td>\n",
       "    </tr>\n",
       "    <tr>\n",
       "      <th>1</th>\n",
       "      <td>2</td>\n",
       "      <td>Jumanji (1995)</td>\n",
       "      <td>Adventure|Children|Fantasy</td>\n",
       "    </tr>\n",
       "    <tr>\n",
       "      <th>2</th>\n",
       "      <td>3</td>\n",
       "      <td>Grumpier Old Men (1995)</td>\n",
       "      <td>Comedy|Romance</td>\n",
       "    </tr>\n",
       "    <tr>\n",
       "      <th>3</th>\n",
       "      <td>4</td>\n",
       "      <td>Waiting to Exhale (1995)</td>\n",
       "      <td>Comedy|Drama|Romance</td>\n",
       "    </tr>\n",
       "    <tr>\n",
       "      <th>4</th>\n",
       "      <td>5</td>\n",
       "      <td>Father of the Bride Part II (1995)</td>\n",
       "      <td>Comedy</td>\n",
       "    </tr>\n",
       "    <tr>\n",
       "      <th>5</th>\n",
       "      <td>6</td>\n",
       "      <td>Heat (1995)</td>\n",
       "      <td>Action|Crime|Thriller</td>\n",
       "    </tr>\n",
       "    <tr>\n",
       "      <th>6</th>\n",
       "      <td>7</td>\n",
       "      <td>Sabrina (1995)</td>\n",
       "      <td>Comedy|Romance</td>\n",
       "    </tr>\n",
       "    <tr>\n",
       "      <th>7</th>\n",
       "      <td>8</td>\n",
       "      <td>Tom and Huck (1995)</td>\n",
       "      <td>Adventure|Children</td>\n",
       "    </tr>\n",
       "    <tr>\n",
       "      <th>8</th>\n",
       "      <td>9</td>\n",
       "      <td>Sudden Death (1995)</td>\n",
       "      <td>Action</td>\n",
       "    </tr>\n",
       "    <tr>\n",
       "      <th>9</th>\n",
       "      <td>10</td>\n",
       "      <td>GoldenEye (1995)</td>\n",
       "      <td>Action|Adventure|Thriller</td>\n",
       "    </tr>\n",
       "  </tbody>\n",
       "</table>\n",
       "</div>"
      ],
      "text/plain": [
       "   movieId                               title   \n",
       "0        1                    Toy Story (1995)  \\\n",
       "1        2                      Jumanji (1995)   \n",
       "2        3             Grumpier Old Men (1995)   \n",
       "3        4            Waiting to Exhale (1995)   \n",
       "4        5  Father of the Bride Part II (1995)   \n",
       "5        6                         Heat (1995)   \n",
       "6        7                      Sabrina (1995)   \n",
       "7        8                 Tom and Huck (1995)   \n",
       "8        9                 Sudden Death (1995)   \n",
       "9       10                    GoldenEye (1995)   \n",
       "\n",
       "                                        genres  \n",
       "0  Adventure|Animation|Children|Comedy|Fantasy  \n",
       "1                   Adventure|Children|Fantasy  \n",
       "2                               Comedy|Romance  \n",
       "3                         Comedy|Drama|Romance  \n",
       "4                                       Comedy  \n",
       "5                        Action|Crime|Thriller  \n",
       "6                               Comedy|Romance  \n",
       "7                           Adventure|Children  \n",
       "8                                       Action  \n",
       "9                    Action|Adventure|Thriller  "
      ]
     },
<<<<<<< HEAD
     "execution_count": 4,
=======
     "execution_count": 2,
>>>>>>> 4821f62b7f17efca60ce6f7c38e3509587088ba3
     "metadata": {},
     "output_type": "execute_result"
    }
   ],
   "source": [
    "movies = pd.read_csv(\"ml-latest/movies.csv\")\n",
    "\n",
    "movies.head(10)"
   ]
  },
  {
   "cell_type": "code",
<<<<<<< HEAD
   "execution_count": 5,
=======
   "execution_count": 3,
>>>>>>> 4821f62b7f17efca60ce6f7c38e3509587088ba3
   "id": "dd33010d",
   "metadata": {},
   "outputs": [
    {
     "data": {
      "text/html": [
       "<div>\n",
       "<style scoped>\n",
       "    .dataframe tbody tr th:only-of-type {\n",
       "        vertical-align: middle;\n",
       "    }\n",
       "\n",
       "    .dataframe tbody tr th {\n",
       "        vertical-align: top;\n",
       "    }\n",
       "\n",
       "    .dataframe thead th {\n",
       "        text-align: right;\n",
       "    }\n",
       "</style>\n",
       "<table border=\"1\" class=\"dataframe\">\n",
       "  <thead>\n",
       "    <tr style=\"text-align: right;\">\n",
       "      <th></th>\n",
       "      <th>userId</th>\n",
       "      <th>movieId</th>\n",
       "      <th>rating</th>\n",
       "      <th>timestamp</th>\n",
       "    </tr>\n",
       "  </thead>\n",
       "  <tbody>\n",
       "    <tr>\n",
       "      <th>0</th>\n",
       "      <td>1</td>\n",
       "      <td>1</td>\n",
       "      <td>4.0</td>\n",
       "      <td>1225734739</td>\n",
       "    </tr>\n",
       "    <tr>\n",
       "      <th>1</th>\n",
       "      <td>1</td>\n",
       "      <td>110</td>\n",
       "      <td>4.0</td>\n",
       "      <td>1225865086</td>\n",
       "    </tr>\n",
       "    <tr>\n",
       "      <th>2</th>\n",
       "      <td>1</td>\n",
       "      <td>158</td>\n",
       "      <td>4.0</td>\n",
       "      <td>1225733503</td>\n",
       "    </tr>\n",
       "    <tr>\n",
       "      <th>3</th>\n",
       "      <td>1</td>\n",
       "      <td>260</td>\n",
       "      <td>4.5</td>\n",
       "      <td>1225735204</td>\n",
       "    </tr>\n",
       "    <tr>\n",
       "      <th>4</th>\n",
       "      <td>1</td>\n",
       "      <td>356</td>\n",
       "      <td>5.0</td>\n",
       "      <td>1225735119</td>\n",
       "    </tr>\n",
       "  </tbody>\n",
       "</table>\n",
       "</div>"
      ],
      "text/plain": [
       "   userId  movieId  rating   timestamp\n",
       "0       1        1     4.0  1225734739\n",
       "1       1      110     4.0  1225865086\n",
       "2       1      158     4.0  1225733503\n",
       "3       1      260     4.5  1225735204\n",
       "4       1      356     5.0  1225735119"
      ]
     },
<<<<<<< HEAD
     "execution_count": 5,
=======
     "execution_count": 3,
>>>>>>> 4821f62b7f17efca60ce6f7c38e3509587088ba3
     "metadata": {},
     "output_type": "execute_result"
    }
   ],
   "source": [
    "ratings = pd.read_csv(\"ml-latest/ratings.csv\")\n",
    "ratings.head(5)"
   ]
  },
  {
   "cell_type": "markdown",
   "id": "c54e4a52",
   "metadata": {},
   "source": [
    "1.1. **Adapt** the content-based implementation by using the 33 million ratings dataset instead to generate top 10 recommendations using cosine-similarity for a specific user (Use the genre and decade features to compute a user vector by taking the average of the feature vectors for the movies the user has watched, weighted by their rating. Then, use that user vector to calculate similarity between the user vector and each of the movie feature vectors the user did not rate)."
   ]
  },
  {
   "cell_type": "code",
<<<<<<< HEAD
   "execution_count": 6,
=======
   "execution_count": 4,
>>>>>>> 4821f62b7f17efca60ce6f7c38e3509587088ba3
   "id": "04263743",
   "metadata": {},
   "outputs": [
    {
     "data": {
      "text/html": [
       "<div>\n",
       "<style scoped>\n",
       "    .dataframe tbody tr th:only-of-type {\n",
       "        vertical-align: middle;\n",
       "    }\n",
       "\n",
       "    .dataframe tbody tr th {\n",
       "        vertical-align: top;\n",
       "    }\n",
       "\n",
       "    .dataframe thead th {\n",
       "        text-align: right;\n",
       "    }\n",
       "</style>\n",
       "<table border=\"1\" class=\"dataframe\">\n",
       "  <thead>\n",
       "    <tr style=\"text-align: right;\">\n",
       "      <th></th>\n",
       "      <th>movieId</th>\n",
       "      <th>title</th>\n",
       "      <th>genres</th>\n",
       "    </tr>\n",
       "  </thead>\n",
       "  <tbody>\n",
       "    <tr>\n",
       "      <th>0</th>\n",
       "      <td>1</td>\n",
       "      <td>Toy Story (1995)</td>\n",
       "      <td>[Adventure, Animation, Children, Comedy, Fantasy]</td>\n",
       "    </tr>\n",
       "    <tr>\n",
       "      <th>1</th>\n",
       "      <td>2</td>\n",
       "      <td>Jumanji (1995)</td>\n",
       "      <td>[Adventure, Children, Fantasy]</td>\n",
       "    </tr>\n",
       "    <tr>\n",
       "      <th>2</th>\n",
       "      <td>3</td>\n",
       "      <td>Grumpier Old Men (1995)</td>\n",
       "      <td>[Comedy, Romance]</td>\n",
       "    </tr>\n",
       "    <tr>\n",
       "      <th>3</th>\n",
       "      <td>4</td>\n",
       "      <td>Waiting to Exhale (1995)</td>\n",
       "      <td>[Comedy, Drama, Romance]</td>\n",
       "    </tr>\n",
       "    <tr>\n",
       "      <th>4</th>\n",
       "      <td>5</td>\n",
       "      <td>Father of the Bride Part II (1995)</td>\n",
       "      <td>[Comedy]</td>\n",
       "    </tr>\n",
       "  </tbody>\n",
       "</table>\n",
       "</div>"
      ],
      "text/plain": [
       "   movieId                               title   \n",
       "0        1                    Toy Story (1995)  \\\n",
       "1        2                      Jumanji (1995)   \n",
       "2        3             Grumpier Old Men (1995)   \n",
       "3        4            Waiting to Exhale (1995)   \n",
       "4        5  Father of the Bride Part II (1995)   \n",
       "\n",
       "                                              genres  \n",
       "0  [Adventure, Animation, Children, Comedy, Fantasy]  \n",
       "1                     [Adventure, Children, Fantasy]  \n",
       "2                                  [Comedy, Romance]  \n",
       "3                           [Comedy, Drama, Romance]  \n",
       "4                                           [Comedy]  "
      ]
     },
<<<<<<< HEAD
     "execution_count": 6,
=======
     "execution_count": 4,
>>>>>>> 4821f62b7f17efca60ce6f7c38e3509587088ba3
     "metadata": {},
     "output_type": "execute_result"
    }
   ],
   "source": [
    "movies['genres'] = movies['genres'].apply(lambda x: x.split(\"|\"))\n",
    "movies.head()\n"
   ]
  },
  {
   "cell_type": "code",
<<<<<<< HEAD
   "execution_count": 7,
=======
   "execution_count": 5,
>>>>>>> 4821f62b7f17efca60ce6f7c38e3509587088ba3
   "id": "4641c74f",
   "metadata": {},
   "outputs": [
    {
     "name": "stdout",
     "output_type": "stream",
     "text": [
      "There are 20 genre labels.\n"
     ]
    },
    {
     "data": {
      "text/plain": [
       "Counter({'Drama': 33681,\n",
       "         'Comedy': 22830,\n",
       "         'Thriller': 11675,\n",
       "         'Romance': 10172,\n",
       "         'Action': 9563,\n",
       "         'Documentary': 9283,\n",
       "         'Horror': 8570,\n",
       "         '(no genres listed)': 7060,\n",
       "         'Crime': 6917,\n",
       "         'Adventure': 5349,\n",
       "         'Sci-Fi': 4850,\n",
       "         'Animation': 4579,\n",
       "         'Children': 4367,\n",
       "         'Mystery': 3972,\n",
       "         'Fantasy': 3821,\n",
       "         'War': 2301,\n",
       "         'Western': 1690,\n",
       "         'Musical': 1059,\n",
       "         'Film-Noir': 354,\n",
       "         'IMAX': 195})"
      ]
     },
<<<<<<< HEAD
     "execution_count": 7,
=======
     "execution_count": 5,
>>>>>>> 4821f62b7f17efca60ce6f7c38e3509587088ba3
     "metadata": {},
     "output_type": "execute_result"
    }
   ],
   "source": [
    "from collections import Counter\n",
    "\n",
    "genres_counts = Counter(g for genres in movies['genres'] for g in genres)\n",
    "print(f\"There are {len(genres_counts)} genre labels.\")\n",
    "genres_counts\n"
   ]
  },
  {
   "cell_type": "code",
<<<<<<< HEAD
   "execution_count": 8,
=======
   "execution_count": 6,
>>>>>>> 4821f62b7f17efca60ce6f7c38e3509587088ba3
   "id": "31723df0",
   "metadata": {},
   "outputs": [],
   "source": [
    "movies = movies[movies['genres']!='(no genres listed)']\n",
    "\n",
    "del genres_counts['(no genres listed)']"
   ]
  },
  {
   "cell_type": "code",
<<<<<<< HEAD
   "execution_count": 9,
=======
   "execution_count": 7,
>>>>>>> 4821f62b7f17efca60ce6f7c38e3509587088ba3
   "id": "4de6d81a",
   "metadata": {},
   "outputs": [
    {
     "name": "stdout",
     "output_type": "stream",
     "text": [
      "The 5 most common genres: \n",
      " [('Drama', 33681), ('Comedy', 22830), ('Thriller', 11675), ('Romance', 10172), ('Action', 9563)]\n"
     ]
    }
   ],
   "source": [
    "print(\"The 5 most common genres: \\n\", genres_counts.most_common(5))\n"
   ]
  },
  {
   "cell_type": "code",
<<<<<<< HEAD
   "execution_count": 10,
=======
   "execution_count": 8,
>>>>>>> 4821f62b7f17efca60ce6f7c38e3509587088ba3
   "id": "b07ba007",
   "metadata": {},
   "outputs": [
    {
     "name": "stdout",
     "output_type": "stream",
     "text": [
      "Year of release: 1995\n",
      "<class 'int'>\n"
     ]
    },
    {
     "data": {
      "text/html": [
       "<div>\n",
       "<style scoped>\n",
       "    .dataframe tbody tr th:only-of-type {\n",
       "        vertical-align: middle;\n",
       "    }\n",
       "\n",
       "    .dataframe tbody tr th {\n",
       "        vertical-align: top;\n",
       "    }\n",
       "\n",
       "    .dataframe thead th {\n",
       "        text-align: right;\n",
       "    }\n",
       "</style>\n",
       "<table border=\"1\" class=\"dataframe\">\n",
       "  <thead>\n",
       "    <tr style=\"text-align: right;\">\n",
       "      <th></th>\n",
       "      <th>movieId</th>\n",
       "      <th>title</th>\n",
       "      <th>genres</th>\n",
       "      <th>year</th>\n",
       "    </tr>\n",
       "  </thead>\n",
       "  <tbody>\n",
       "    <tr>\n",
       "      <th>0</th>\n",
       "      <td>1</td>\n",
       "      <td>Toy Story (1995)</td>\n",
       "      <td>[Adventure, Animation, Children, Comedy, Fantasy]</td>\n",
       "      <td>1995.0</td>\n",
       "    </tr>\n",
       "    <tr>\n",
       "      <th>1</th>\n",
       "      <td>2</td>\n",
       "      <td>Jumanji (1995)</td>\n",
       "      <td>[Adventure, Children, Fantasy]</td>\n",
       "      <td>1995.0</td>\n",
       "    </tr>\n",
       "    <tr>\n",
       "      <th>2</th>\n",
       "      <td>3</td>\n",
       "      <td>Grumpier Old Men (1995)</td>\n",
       "      <td>[Comedy, Romance]</td>\n",
       "      <td>1995.0</td>\n",
       "    </tr>\n",
       "    <tr>\n",
       "      <th>3</th>\n",
       "      <td>4</td>\n",
       "      <td>Waiting to Exhale (1995)</td>\n",
       "      <td>[Comedy, Drama, Romance]</td>\n",
       "      <td>1995.0</td>\n",
       "    </tr>\n",
       "    <tr>\n",
       "      <th>4</th>\n",
       "      <td>5</td>\n",
       "      <td>Father of the Bride Part II (1995)</td>\n",
       "      <td>[Comedy]</td>\n",
       "      <td>1995.0</td>\n",
       "    </tr>\n",
       "  </tbody>\n",
       "</table>\n",
       "</div>"
      ],
      "text/plain": [
       "   movieId                               title   \n",
       "0        1                    Toy Story (1995)  \\\n",
       "1        2                      Jumanji (1995)   \n",
       "2        3             Grumpier Old Men (1995)   \n",
       "3        4            Waiting to Exhale (1995)   \n",
       "4        5  Father of the Bride Part II (1995)   \n",
       "\n",
       "                                              genres    year  \n",
       "0  [Adventure, Animation, Children, Comedy, Fantasy]  1995.0  \n",
       "1                     [Adventure, Children, Fantasy]  1995.0  \n",
       "2                                  [Comedy, Romance]  1995.0  \n",
       "3                           [Comedy, Drama, Romance]  1995.0  \n",
       "4                                           [Comedy]  1995.0  "
      ]
     },
<<<<<<< HEAD
     "execution_count": 10,
=======
     "execution_count": 8,
>>>>>>> 4821f62b7f17efca60ce6f7c38e3509587088ba3
     "metadata": {},
     "output_type": "execute_result"
    }
   ],
   "source": [
    "import re \n",
    "\n",
    "def extract_year_from_title(title):\n",
    "    match = re.search(r'\\((\\d{4})\\)', title)\n",
    "    if match:\n",
    "        return int(match.group(1))\n",
    "    return None\n",
    "\n",
    "title = \"Toy Story (1995)\"\n",
    "year = extract_year_from_title(title)\n",
    "print(f\"Year of release: {year}\")\n",
    "print(type(year))\n",
    "\n",
    "movies['year'] = movies['title'].apply(extract_year_from_title)\n",
    "movies.head()\n"
   ]
  },
  {
   "cell_type": "code",
<<<<<<< HEAD
   "execution_count": 11,
=======
   "execution_count": 9,
>>>>>>> 4821f62b7f17efca60ce6f7c38e3509587088ba3
   "id": "aac2fa26",
   "metadata": {},
   "outputs": [
    {
     "data": {
      "text/plain": [
       "142"
      ]
     },
<<<<<<< HEAD
     "execution_count": 11,
=======
     "execution_count": 9,
>>>>>>> 4821f62b7f17efca60ce6f7c38e3509587088ba3
     "metadata": {},
     "output_type": "execute_result"
    }
   ],
   "source": [
    "movies['year'].nunique()"
   ]
  },
  {
   "cell_type": "code",
<<<<<<< HEAD
   "execution_count": 12,
=======
   "execution_count": 10,
>>>>>>> 4821f62b7f17efca60ce6f7c38e3509587088ba3
   "id": "84851c67",
   "metadata": {},
   "outputs": [
    {
     "name": "stdout",
     "output_type": "stream",
     "text": [
      "Original number of movies: 86537\n"
     ]
    }
   ],
   "source": [
    "print(f\"Original number of movies: {movies['movieId'].nunique()}\")"
   ]
  },
  {
   "cell_type": "code",
<<<<<<< HEAD
   "execution_count": 13,
=======
   "execution_count": 11,
>>>>>>> 4821f62b7f17efca60ce6f7c38e3509587088ba3
   "id": "ef402f05",
   "metadata": {},
   "outputs": [
    {
     "name": "stdout",
     "output_type": "stream",
     "text": [
      "Number of movies after removing null years: 85919\n"
     ]
    }
   ],
   "source": [
    "movies = movies[~movies['year'].isnull()]\n",
    "print(f\"Number of movies after removing null years: {movies['movieId'].nunique()}\")"
   ]
  },
  {
   "cell_type": "code",
<<<<<<< HEAD
   "execution_count": 14,
=======
   "execution_count": 12,
>>>>>>> 4821f62b7f17efca60ce6f7c38e3509587088ba3
   "id": "a8a99d02",
   "metadata": {},
   "outputs": [
    {
     "data": {
      "text/plain": [
       "1990"
      ]
     },
<<<<<<< HEAD
     "execution_count": 14,
=======
     "execution_count": 12,
>>>>>>> 4821f62b7f17efca60ce6f7c38e3509587088ba3
     "metadata": {},
     "output_type": "execute_result"
    }
   ],
   "source": [
    "x = 1995\n",
    "\n",
    "def get_decade(year):\n",
    "    year = str(year)\n",
    "    decade_prefix = year[0:3] # get first 3 digits of year\n",
    "    decade = f'{decade_prefix}0' # append 0 at the end\n",
    "    return int(decade)\n",
    "\n",
    "get_decade(x)"
   ]
  },
  {
   "cell_type": "code",
<<<<<<< HEAD
   "execution_count": 15,
=======
   "execution_count": 13,
>>>>>>> 4821f62b7f17efca60ce6f7c38e3509587088ba3
   "id": "b25201e2",
   "metadata": {},
   "outputs": [
    {
     "data": {
      "text/plain": [
       "1990"
      ]
     },
<<<<<<< HEAD
     "execution_count": 15,
=======
     "execution_count": 13,
>>>>>>> 4821f62b7f17efca60ce6f7c38e3509587088ba3
     "metadata": {},
     "output_type": "execute_result"
    }
   ],
   "source": [
    "def round_down(year):\n",
    "    return year - (year%10)\n",
    "\n",
    "round_down(x)"
   ]
  },
  {
   "cell_type": "code",
<<<<<<< HEAD
   "execution_count": 16,
=======
   "execution_count": 14,
>>>>>>> 4821f62b7f17efca60ce6f7c38e3509587088ba3
   "id": "d8189927",
   "metadata": {},
   "outputs": [],
   "source": [
    "movies['decade'] = movies['year'].apply(round_down)"
   ]
  },
  {
   "cell_type": "code",
<<<<<<< HEAD
   "execution_count": 17,
=======
   "execution_count": 15,
>>>>>>> 4821f62b7f17efca60ce6f7c38e3509587088ba3
   "id": "d00ff8e8",
   "metadata": {},
   "outputs": [
    {
     "name": "stdout",
     "output_type": "stream",
     "text": [
      "[1990. 1970. 1980. 1960. 1930. 1940. 1950. 1920. 1910. 2000. 1900. 2010.\n",
      " 1890. 1880. 1870. 2020.]\n"
     ]
    }
   ],
   "source": [
    "print(movies['decade'].unique())"
   ]
  },
  {
   "cell_type": "code",
<<<<<<< HEAD
   "execution_count": 18,
=======
   "execution_count": 16,
>>>>>>> 4821f62b7f17efca60ce6f7c38e3509587088ba3
   "id": "fb19787d",
   "metadata": {},
   "outputs": [
    {
     "data": {
      "image/png": "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",
      "text/plain": [
       "<Figure size 1000x600 with 1 Axes>"
      ]
     },
     "metadata": {},
     "output_type": "display_data"
    }
   ],
   "source": [
    "import matplotlib.pyplot as plt\n",
    "import seaborn as sns\n",
    "\n",
    "plt.figure(figsize=(10,6))\n",
    "sns.countplot(data=movies, x='decade', palette='Blues', order=sorted(movies['decade'].unique()))\n",
    "plt.xticks(rotation=90)\n",
    "plt.show()\n"
   ]
  },
  {
   "cell_type": "code",
<<<<<<< HEAD
   "execution_count": 19,
=======
   "execution_count": 17,
>>>>>>> 4821f62b7f17efca60ce6f7c38e3509587088ba3
   "id": "f6656e68",
   "metadata": {},
   "outputs": [],
   "source": [
    "genres = list(genres_counts.keys())\n",
    "\n",
    "for g in genres:\n",
    "    movies[g] = movies['genres'].transform(lambda x: int(g in x))"
   ]
  },
  {
   "cell_type": "code",
<<<<<<< HEAD
   "execution_count": 20,
=======
   "execution_count": 18,
>>>>>>> 4821f62b7f17efca60ce6f7c38e3509587088ba3
   "id": "3ff2806f",
   "metadata": {},
   "outputs": [
    {
     "data": {
      "text/html": [
       "<div>\n",
       "<style scoped>\n",
       "    .dataframe tbody tr th:only-of-type {\n",
       "        vertical-align: middle;\n",
       "    }\n",
       "\n",
       "    .dataframe tbody tr th {\n",
       "        vertical-align: top;\n",
       "    }\n",
       "\n",
       "    .dataframe thead th {\n",
       "        text-align: right;\n",
       "    }\n",
       "</style>\n",
       "<table border=\"1\" class=\"dataframe\">\n",
       "  <thead>\n",
       "    <tr style=\"text-align: right;\">\n",
       "      <th></th>\n",
       "      <th>Adventure</th>\n",
       "      <th>Animation</th>\n",
       "      <th>Children</th>\n",
       "      <th>Comedy</th>\n",
       "      <th>Fantasy</th>\n",
       "      <th>Romance</th>\n",
       "      <th>Drama</th>\n",
       "      <th>Action</th>\n",
       "      <th>Crime</th>\n",
       "      <th>Thriller</th>\n",
       "      <th>Horror</th>\n",
       "      <th>Mystery</th>\n",
       "      <th>Sci-Fi</th>\n",
       "      <th>IMAX</th>\n",
       "      <th>Documentary</th>\n",
       "      <th>War</th>\n",
       "      <th>Musical</th>\n",
       "      <th>Western</th>\n",
       "      <th>Film-Noir</th>\n",
       "    </tr>\n",
       "  </thead>\n",
       "  <tbody>\n",
       "    <tr>\n",
       "      <th>0</th>\n",
       "      <td>1</td>\n",
       "      <td>1</td>\n",
       "      <td>1</td>\n",
       "      <td>1</td>\n",
       "      <td>1</td>\n",
       "      <td>0</td>\n",
       "      <td>0</td>\n",
       "      <td>0</td>\n",
       "      <td>0</td>\n",
       "      <td>0</td>\n",
       "      <td>0</td>\n",
       "      <td>0</td>\n",
       "      <td>0</td>\n",
       "      <td>0</td>\n",
       "      <td>0</td>\n",
       "      <td>0</td>\n",
       "      <td>0</td>\n",
       "      <td>0</td>\n",
       "      <td>0</td>\n",
       "    </tr>\n",
       "    <tr>\n",
       "      <th>1</th>\n",
       "      <td>1</td>\n",
       "      <td>0</td>\n",
       "      <td>1</td>\n",
       "      <td>0</td>\n",
       "      <td>1</td>\n",
       "      <td>0</td>\n",
       "      <td>0</td>\n",
       "      <td>0</td>\n",
       "      <td>0</td>\n",
       "      <td>0</td>\n",
       "      <td>0</td>\n",
       "      <td>0</td>\n",
       "      <td>0</td>\n",
       "      <td>0</td>\n",
       "      <td>0</td>\n",
       "      <td>0</td>\n",
       "      <td>0</td>\n",
       "      <td>0</td>\n",
       "      <td>0</td>\n",
       "    </tr>\n",
       "    <tr>\n",
       "      <th>2</th>\n",
       "      <td>0</td>\n",
       "      <td>0</td>\n",
       "      <td>0</td>\n",
       "      <td>1</td>\n",
       "      <td>0</td>\n",
       "      <td>1</td>\n",
       "      <td>0</td>\n",
       "      <td>0</td>\n",
       "      <td>0</td>\n",
       "      <td>0</td>\n",
       "      <td>0</td>\n",
       "      <td>0</td>\n",
       "      <td>0</td>\n",
       "      <td>0</td>\n",
       "      <td>0</td>\n",
       "      <td>0</td>\n",
       "      <td>0</td>\n",
       "      <td>0</td>\n",
       "      <td>0</td>\n",
       "    </tr>\n",
       "    <tr>\n",
       "      <th>3</th>\n",
       "      <td>0</td>\n",
       "      <td>0</td>\n",
       "      <td>0</td>\n",
       "      <td>1</td>\n",
       "      <td>0</td>\n",
       "      <td>1</td>\n",
       "      <td>1</td>\n",
       "      <td>0</td>\n",
       "      <td>0</td>\n",
       "      <td>0</td>\n",
       "      <td>0</td>\n",
       "      <td>0</td>\n",
       "      <td>0</td>\n",
       "      <td>0</td>\n",
       "      <td>0</td>\n",
       "      <td>0</td>\n",
       "      <td>0</td>\n",
       "      <td>0</td>\n",
       "      <td>0</td>\n",
       "    </tr>\n",
       "    <tr>\n",
       "      <th>4</th>\n",
       "      <td>0</td>\n",
       "      <td>0</td>\n",
       "      <td>0</td>\n",
       "      <td>1</td>\n",
       "      <td>0</td>\n",
       "      <td>0</td>\n",
       "      <td>0</td>\n",
       "      <td>0</td>\n",
       "      <td>0</td>\n",
       "      <td>0</td>\n",
       "      <td>0</td>\n",
       "      <td>0</td>\n",
       "      <td>0</td>\n",
       "      <td>0</td>\n",
       "      <td>0</td>\n",
       "      <td>0</td>\n",
       "      <td>0</td>\n",
       "      <td>0</td>\n",
       "      <td>0</td>\n",
       "    </tr>\n",
       "  </tbody>\n",
       "</table>\n",
       "</div>"
      ],
      "text/plain": [
       "   Adventure  Animation  Children  Comedy  Fantasy  Romance  Drama  Action   \n",
       "0          1          1         1       1        1        0      0       0  \\\n",
       "1          1          0         1       0        1        0      0       0   \n",
       "2          0          0         0       1        0        1      0       0   \n",
       "3          0          0         0       1        0        1      1       0   \n",
       "4          0          0         0       1        0        0      0       0   \n",
       "\n",
       "   Crime  Thriller  Horror  Mystery  Sci-Fi  IMAX  Documentary  War  Musical   \n",
       "0      0         0       0        0       0     0            0    0        0  \\\n",
       "1      0         0       0        0       0     0            0    0        0   \n",
       "2      0         0       0        0       0     0            0    0        0   \n",
       "3      0         0       0        0       0     0            0    0        0   \n",
       "4      0         0       0        0       0     0            0    0        0   \n",
       "\n",
       "   Western  Film-Noir  \n",
       "0        0          0  \n",
       "1        0          0  \n",
       "2        0          0  \n",
       "3        0          0  \n",
       "4        0          0  "
      ]
     },
<<<<<<< HEAD
     "execution_count": 20,
=======
     "execution_count": 18,
>>>>>>> 4821f62b7f17efca60ce6f7c38e3509587088ba3
     "metadata": {},
     "output_type": "execute_result"
    }
   ],
   "source": [
    "movies[genres].head()"
   ]
  },
  {
   "cell_type": "code",
<<<<<<< HEAD
   "execution_count": 21,
=======
   "execution_count": 19,
>>>>>>> 4821f62b7f17efca60ce6f7c38e3509587088ba3
   "id": "0266a24a",
   "metadata": {},
   "outputs": [
    {
     "name": "stdout",
     "output_type": "stream",
     "text": [
      "   1870.0  1880.0  1890.0  1900.0  1910.0  1920.0  1930.0  1940.0  1950.0   \n",
      "0       0       0       0       0       0       0       0       0       0  \\\n",
      "1       0       0       0       0       0       0       0       0       0   \n",
      "2       0       0       0       0       0       0       0       0       0   \n",
      "3       0       0       0       0       0       0       0       0       0   \n",
      "4       0       0       0       0       0       0       0       0       0   \n",
      "\n",
      "   1960.0  1970.0  1980.0  1990.0  2000.0  2010.0  2020.0  \n",
      "0       0       0       0       1       0       0       0  \n",
      "1       0       0       0       1       0       0       0  \n",
      "2       0       0       0       1       0       0       0  \n",
      "3       0       0       0       1       0       0       0  \n",
      "4       0       0       0       1       0       0       0  \n"
     ]
    }
   ],
   "source": [
    "movie_decades = pd.get_dummies(movies['decade'])\n",
    "movie_decades = movie_decades.astype(int)\n",
    "print(movie_decades.head())\n",
    "\n"
   ]
  },
  {
   "cell_type": "code",
<<<<<<< HEAD
   "execution_count": 22,
=======
   "execution_count": 20,
>>>>>>> 4821f62b7f17efca60ce6f7c38e3509587088ba3
   "id": "c69f9ef6",
   "metadata": {},
   "outputs": [
    {
     "data": {
      "text/html": [
       "<div>\n",
       "<style scoped>\n",
       "    .dataframe tbody tr th:only-of-type {\n",
       "        vertical-align: middle;\n",
       "    }\n",
       "\n",
       "    .dataframe tbody tr th {\n",
       "        vertical-align: top;\n",
       "    }\n",
       "\n",
       "    .dataframe thead th {\n",
       "        text-align: right;\n",
       "    }\n",
       "</style>\n",
       "<table border=\"1\" class=\"dataframe\">\n",
       "  <thead>\n",
       "    <tr style=\"text-align: right;\">\n",
       "      <th></th>\n",
       "      <th>1870.0</th>\n",
       "      <th>1880.0</th>\n",
       "      <th>1890.0</th>\n",
       "      <th>1900.0</th>\n",
       "      <th>1910.0</th>\n",
       "      <th>1920.0</th>\n",
       "      <th>1930.0</th>\n",
       "      <th>1940.0</th>\n",
       "      <th>1950.0</th>\n",
       "      <th>1960.0</th>\n",
       "      <th>1970.0</th>\n",
       "      <th>1980.0</th>\n",
       "      <th>1990.0</th>\n",
       "      <th>2000.0</th>\n",
       "      <th>2010.0</th>\n",
       "      <th>2020.0</th>\n",
       "    </tr>\n",
       "  </thead>\n",
       "  <tbody>\n",
       "    <tr>\n",
       "      <th>0</th>\n",
       "      <td>False</td>\n",
       "      <td>False</td>\n",
       "      <td>False</td>\n",
       "      <td>False</td>\n",
       "      <td>False</td>\n",
       "      <td>False</td>\n",
       "      <td>False</td>\n",
       "      <td>False</td>\n",
       "      <td>False</td>\n",
       "      <td>False</td>\n",
       "      <td>False</td>\n",
       "      <td>False</td>\n",
       "      <td>True</td>\n",
       "      <td>False</td>\n",
       "      <td>False</td>\n",
       "      <td>False</td>\n",
       "    </tr>\n",
       "    <tr>\n",
       "      <th>1</th>\n",
       "      <td>False</td>\n",
       "      <td>False</td>\n",
       "      <td>False</td>\n",
       "      <td>False</td>\n",
       "      <td>False</td>\n",
       "      <td>False</td>\n",
       "      <td>False</td>\n",
       "      <td>False</td>\n",
       "      <td>False</td>\n",
       "      <td>False</td>\n",
       "      <td>False</td>\n",
       "      <td>False</td>\n",
       "      <td>True</td>\n",
       "      <td>False</td>\n",
       "      <td>False</td>\n",
       "      <td>False</td>\n",
       "    </tr>\n",
       "    <tr>\n",
       "      <th>2</th>\n",
       "      <td>False</td>\n",
       "      <td>False</td>\n",
       "      <td>False</td>\n",
       "      <td>False</td>\n",
       "      <td>False</td>\n",
       "      <td>False</td>\n",
       "      <td>False</td>\n",
       "      <td>False</td>\n",
       "      <td>False</td>\n",
       "      <td>False</td>\n",
       "      <td>False</td>\n",
       "      <td>False</td>\n",
       "      <td>True</td>\n",
       "      <td>False</td>\n",
       "      <td>False</td>\n",
       "      <td>False</td>\n",
       "    </tr>\n",
       "    <tr>\n",
       "      <th>3</th>\n",
       "      <td>False</td>\n",
       "      <td>False</td>\n",
       "      <td>False</td>\n",
       "      <td>False</td>\n",
       "      <td>False</td>\n",
       "      <td>False</td>\n",
       "      <td>False</td>\n",
       "      <td>False</td>\n",
       "      <td>False</td>\n",
       "      <td>False</td>\n",
       "      <td>False</td>\n",
       "      <td>False</td>\n",
       "      <td>True</td>\n",
       "      <td>False</td>\n",
       "      <td>False</td>\n",
       "      <td>False</td>\n",
       "    </tr>\n",
       "    <tr>\n",
       "      <th>4</th>\n",
       "      <td>False</td>\n",
       "      <td>False</td>\n",
       "      <td>False</td>\n",
       "      <td>False</td>\n",
       "      <td>False</td>\n",
       "      <td>False</td>\n",
       "      <td>False</td>\n",
       "      <td>False</td>\n",
       "      <td>False</td>\n",
       "      <td>False</td>\n",
       "      <td>False</td>\n",
       "      <td>False</td>\n",
       "      <td>True</td>\n",
       "      <td>False</td>\n",
       "      <td>False</td>\n",
       "      <td>False</td>\n",
       "    </tr>\n",
       "  </tbody>\n",
       "</table>\n",
       "</div>"
      ],
      "text/plain": [
       "   1870.0  1880.0  1890.0  1900.0  1910.0  1920.0  1930.0  1940.0  1950.0   \n",
       "0   False   False   False   False   False   False   False   False   False  \\\n",
       "1   False   False   False   False   False   False   False   False   False   \n",
       "2   False   False   False   False   False   False   False   False   False   \n",
       "3   False   False   False   False   False   False   False   False   False   \n",
       "4   False   False   False   False   False   False   False   False   False   \n",
       "\n",
       "   1960.0  1970.0  1980.0  1990.0  2000.0  2010.0  2020.0  \n",
       "0   False   False   False    True   False   False   False  \n",
       "1   False   False   False    True   False   False   False  \n",
       "2   False   False   False    True   False   False   False  \n",
       "3   False   False   False    True   False   False   False  \n",
       "4   False   False   False    True   False   False   False  "
      ]
     },
<<<<<<< HEAD
     "execution_count": 22,
=======
     "execution_count": 20,
>>>>>>> 4821f62b7f17efca60ce6f7c38e3509587088ba3
     "metadata": {},
     "output_type": "execute_result"
    }
   ],
   "source": [
    "movie_decades = pd.get_dummies(movies['decade'])\n",
    "movie_decades.head()"
   ]
  },
  {
   "cell_type": "code",
<<<<<<< HEAD
   "execution_count": 23,
=======
   "execution_count": 21,
>>>>>>> 4821f62b7f17efca60ce6f7c38e3509587088ba3
   "id": "f81317ee",
   "metadata": {},
   "outputs": [
    {
     "data": {
      "text/html": [
       "<div>\n",
       "<style scoped>\n",
       "    .dataframe tbody tr th:only-of-type {\n",
       "        vertical-align: middle;\n",
       "    }\n",
       "\n",
       "    .dataframe tbody tr th {\n",
       "        vertical-align: top;\n",
       "    }\n",
       "\n",
       "    .dataframe thead th {\n",
       "        text-align: right;\n",
       "    }\n",
       "</style>\n",
       "<table border=\"1\" class=\"dataframe\">\n",
       "  <thead>\n",
       "    <tr style=\"text-align: right;\">\n",
       "      <th></th>\n",
       "      <th>Adventure</th>\n",
       "      <th>Animation</th>\n",
       "      <th>Children</th>\n",
       "      <th>Comedy</th>\n",
       "      <th>Fantasy</th>\n",
       "      <th>Romance</th>\n",
       "      <th>Drama</th>\n",
       "      <th>Action</th>\n",
       "      <th>Crime</th>\n",
       "      <th>Thriller</th>\n",
       "      <th>...</th>\n",
       "      <th>1930.0</th>\n",
       "      <th>1940.0</th>\n",
       "      <th>1950.0</th>\n",
       "      <th>1960.0</th>\n",
       "      <th>1970.0</th>\n",
       "      <th>1980.0</th>\n",
       "      <th>1990.0</th>\n",
       "      <th>2000.0</th>\n",
       "      <th>2010.0</th>\n",
       "      <th>2020.0</th>\n",
       "    </tr>\n",
       "  </thead>\n",
       "  <tbody>\n",
       "    <tr>\n",
       "      <th>0</th>\n",
       "      <td>1</td>\n",
       "      <td>1</td>\n",
       "      <td>1</td>\n",
       "      <td>1</td>\n",
       "      <td>1</td>\n",
       "      <td>0</td>\n",
       "      <td>0</td>\n",
       "      <td>0</td>\n",
       "      <td>0</td>\n",
       "      <td>0</td>\n",
       "      <td>...</td>\n",
       "      <td>False</td>\n",
       "      <td>False</td>\n",
       "      <td>False</td>\n",
       "      <td>False</td>\n",
       "      <td>False</td>\n",
       "      <td>False</td>\n",
       "      <td>True</td>\n",
       "      <td>False</td>\n",
       "      <td>False</td>\n",
       "      <td>False</td>\n",
       "    </tr>\n",
       "    <tr>\n",
       "      <th>1</th>\n",
       "      <td>1</td>\n",
       "      <td>0</td>\n",
       "      <td>1</td>\n",
       "      <td>0</td>\n",
       "      <td>1</td>\n",
       "      <td>0</td>\n",
       "      <td>0</td>\n",
       "      <td>0</td>\n",
       "      <td>0</td>\n",
       "      <td>0</td>\n",
       "      <td>...</td>\n",
       "      <td>False</td>\n",
       "      <td>False</td>\n",
       "      <td>False</td>\n",
       "      <td>False</td>\n",
       "      <td>False</td>\n",
       "      <td>False</td>\n",
       "      <td>True</td>\n",
       "      <td>False</td>\n",
       "      <td>False</td>\n",
       "      <td>False</td>\n",
       "    </tr>\n",
       "    <tr>\n",
       "      <th>2</th>\n",
       "      <td>0</td>\n",
       "      <td>0</td>\n",
       "      <td>0</td>\n",
       "      <td>1</td>\n",
       "      <td>0</td>\n",
       "      <td>1</td>\n",
       "      <td>0</td>\n",
       "      <td>0</td>\n",
       "      <td>0</td>\n",
       "      <td>0</td>\n",
       "      <td>...</td>\n",
       "      <td>False</td>\n",
       "      <td>False</td>\n",
       "      <td>False</td>\n",
       "      <td>False</td>\n",
       "      <td>False</td>\n",
       "      <td>False</td>\n",
       "      <td>True</td>\n",
       "      <td>False</td>\n",
       "      <td>False</td>\n",
       "      <td>False</td>\n",
       "    </tr>\n",
       "    <tr>\n",
       "      <th>3</th>\n",
       "      <td>0</td>\n",
       "      <td>0</td>\n",
       "      <td>0</td>\n",
       "      <td>1</td>\n",
       "      <td>0</td>\n",
       "      <td>1</td>\n",
       "      <td>1</td>\n",
       "      <td>0</td>\n",
       "      <td>0</td>\n",
       "      <td>0</td>\n",
       "      <td>...</td>\n",
       "      <td>False</td>\n",
       "      <td>False</td>\n",
       "      <td>False</td>\n",
       "      <td>False</td>\n",
       "      <td>False</td>\n",
       "      <td>False</td>\n",
       "      <td>True</td>\n",
       "      <td>False</td>\n",
       "      <td>False</td>\n",
       "      <td>False</td>\n",
       "    </tr>\n",
       "    <tr>\n",
       "      <th>4</th>\n",
       "      <td>0</td>\n",
       "      <td>0</td>\n",
       "      <td>0</td>\n",
       "      <td>1</td>\n",
       "      <td>0</td>\n",
       "      <td>0</td>\n",
       "      <td>0</td>\n",
       "      <td>0</td>\n",
       "      <td>0</td>\n",
       "      <td>0</td>\n",
       "      <td>...</td>\n",
       "      <td>False</td>\n",
       "      <td>False</td>\n",
       "      <td>False</td>\n",
       "      <td>False</td>\n",
       "      <td>False</td>\n",
       "      <td>False</td>\n",
       "      <td>True</td>\n",
       "      <td>False</td>\n",
       "      <td>False</td>\n",
       "      <td>False</td>\n",
       "    </tr>\n",
       "  </tbody>\n",
       "</table>\n",
       "<p>5 rows × 35 columns</p>\n",
       "</div>"
      ],
      "text/plain": [
       "   Adventure  Animation  Children  Comedy  Fantasy  Romance  Drama  Action   \n",
       "0          1          1         1       1        1        0      0       0  \\\n",
       "1          1          0         1       0        1        0      0       0   \n",
       "2          0          0         0       1        0        1      0       0   \n",
       "3          0          0         0       1        0        1      1       0   \n",
       "4          0          0         0       1        0        0      0       0   \n",
       "\n",
       "   Crime  Thriller  ...  1930.0  1940.0  1950.0  1960.0  1970.0  1980.0   \n",
       "0      0         0  ...   False   False   False   False   False   False  \\\n",
       "1      0         0  ...   False   False   False   False   False   False   \n",
       "2      0         0  ...   False   False   False   False   False   False   \n",
       "3      0         0  ...   False   False   False   False   False   False   \n",
       "4      0         0  ...   False   False   False   False   False   False   \n",
       "\n",
       "   1990.0  2000.0  2010.0  2020.0  \n",
       "0    True   False   False   False  \n",
       "1    True   False   False   False  \n",
       "2    True   False   False   False  \n",
       "3    True   False   False   False  \n",
       "4    True   False   False   False  \n",
       "\n",
       "[5 rows x 35 columns]"
      ]
     },
<<<<<<< HEAD
     "execution_count": 23,
=======
     "execution_count": 21,
>>>>>>> 4821f62b7f17efca60ce6f7c38e3509587088ba3
     "metadata": {},
     "output_type": "execute_result"
    }
   ],
   "source": [
    "movie_features = pd.concat([movies[genres], movie_decades], axis=1)\n",
    "movie_features.head()\n",
    "\n"
   ]
  },
  {
   "cell_type": "code",
<<<<<<< HEAD
   "execution_count": 24,
=======
   "execution_count": 22,
>>>>>>> 4821f62b7f17efca60ce6f7c38e3509587088ba3
   "id": "284505cf",
   "metadata": {},
   "outputs": [
    {
     "name": "stdout",
     "output_type": "stream",
     "text": [
      "   Adventure  Animation  Children  Comedy  Fantasy  Romance  Drama  Action   \n",
      "0          1          1         1       1        1        0      0       0  \\\n",
      "1          1          0         1       0        1        0      0       0   \n",
      "2          0          0         0       1        0        1      0       0   \n",
      "3          0          0         0       1        0        1      1       0   \n",
      "4          0          0         0       1        0        0      0       0   \n",
      "\n",
      "   Crime  Thriller  ...  1930.0  1940.0  1950.0  1960.0  1970.0  1980.0   \n",
      "0      0         0  ...       0       0       0       0       0       0  \\\n",
      "1      0         0  ...       0       0       0       0       0       0   \n",
      "2      0         0  ...       0       0       0       0       0       0   \n",
      "3      0         0  ...       0       0       0       0       0       0   \n",
      "4      0         0  ...       0       0       0       0       0       0   \n",
      "\n",
      "   1990.0  2000.0  2010.0  2020.0  \n",
      "0       1       0       0       0  \n",
      "1       1       0       0       0  \n",
      "2       1       0       0       0  \n",
      "3       1       0       0       0  \n",
      "4       1       0       0       0  \n",
      "\n",
      "[5 rows x 35 columns]\n"
     ]
    }
   ],
   "source": [
    "# Convert the boolean decade to int \n",
    "movie_decades = movie_decades * 1\n",
    "movie_features = pd.concat([movies[genres], movie_decades], axis=1)\n",
    "print(movie_features.head())"
   ]
  },
  {
   "cell_type": "code",
<<<<<<< HEAD
   "execution_count": 25,
=======
   "execution_count": 23,
>>>>>>> 4821f62b7f17efca60ce6f7c38e3509587088ba3
   "id": "8cff0b4d",
   "metadata": {},
   "outputs": [],
   "source": [
    "#from sklearn.metrics.pairwise import cosine_similarity\n",
    "\n",
    "#cosine_sim = cosine_similarity(movie_features, movie_features)\n",
    "#print(f\"Dimensions of our movie features cosine similarity matrix: {cosine_sim.shape}\")\n"
   ]
  },
  {
   "cell_type": "markdown",
   "id": "567a930c",
   "metadata": {},
   "source": [
    "1.1. **Adapt** the content-based implementation by using the 33 million ratings dataset instead to generate top 10 recommendations using cosine-similarity for a specific user (Use the genre and decade features to compute a user vector by taking the average of the feature vectors for the movies the user has watched, weighted by their rating. Then, use that user vector to calculate similarity between the user vector and each of the movie feature vectors the user did not rate)."
   ]
  },
  {
   "cell_type": "code",
<<<<<<< HEAD
   "execution_count": 26,
=======
   "execution_count": 24,
>>>>>>> 4821f62b7f17efca60ce6f7c38e3509587088ba3
   "id": "39b44c4d",
   "metadata": {},
   "outputs": [],
   "source": [
    "def compute_user_vector(user_id, ratings, movie_features):\n",
    "    user_movies = ratings[ratings['userId'] == user_id]\n",
    "    user_vector = np.zeros(movie_features.shape[1])\n",
    "    \n",
    "    for index, row in user_movies.iterrows():\n",
    "        movie_id = row['movieId']\n",
    "        rating = row['rating']\n",
    "        movie_vector = movie_features.loc[movie_id].values\n",
    "        user_vector += rating * movie_vector\n",
    "    \n",
    "    user_vector /= len(user_movies)\n",
    "    \n",
    "    return user_vector\n"
   ]
  },
  {
   "cell_type": "code",
<<<<<<< HEAD
   "execution_count": 27,
=======
   "execution_count": 25,
>>>>>>> 4821f62b7f17efca60ce6f7c38e3509587088ba3
   "id": "5344c5ff",
   "metadata": {},
   "outputs": [],
   "source": [
    "from sklearn.metrics.pairwise import cosine_similarity\n",
    "\n",
    "def get_recommendations_for_user(user_id, ratings, movie_features, n=10):\n",
    "    user_vector = compute_user_vector(user_id, ratings, movie_features)\n",
    "    user_vector = user_vector.reshape(1, -1)\n",
    "    \n",
    "    movies_rated_by_user = ratings[ratings['userId'] == user_id]['movieId'].tolist()\n",
    "    movies_not_rated_by_user = movie_features[~movie_features.index.isin(movies_rated_by_user)]\n",
    "    \n",
    "    cosine_sim_scores = cosine_similarity(user_vector, movies_not_rated_by_user)\n",
    "    cosine_sim_scores = cosine_sim_scores[0]\n",
    "    \n",
    "    recommended_movie_ids = movies_not_rated_by_user.index[np.argsort(-cosine_sim_scores)[:n]]\n",
    "    \n",
    "    return recommended_movie_ids\n"
   ]
  },
  {
   "cell_type": "code",
<<<<<<< HEAD
   "execution_count": 28,
=======
   "execution_count": 26,
>>>>>>> 4821f62b7f17efca60ce6f7c38e3509587088ba3
   "id": "c0a6e04f-d297-4766-891c-5efe82f5bf18",
   "metadata": {},
   "outputs": [
    {
     "name": "stdout",
     "output_type": "stream",
     "text": [
      "2505                                    SLC Punk! (1998)\n",
      "304      Three Colors: White (Trzy kolory: Bialy) (1994)\n",
      "48483              Confessions of a Sorority Girl (1994)\n",
      "35571                                  Hotel Room (1993)\n",
      "300                                     Roommates (1995)\n",
      "49112                 Weapons of Mass Distraction (1997)\n",
      "17041            God's Comedy (A Comédia de Deus) (1995)\n",
      "11677                                      Uranus (1990)\n",
      "40972                    Tales of a Golden Geisha (1990)\n",
      "9088                                   Breast Men (1997)\n",
      "Name: title, dtype: object\n"
     ]
    }
   ],
   "source": [
    "user_id = 123  # Replace with any user\n",
    "recommended_movie_ids = get_recommendations_for_user(user_id, ratings, movie_features)\n",
    "print(movies['title'].loc[recommended_movie_ids])\n"
   ]
  },
  {
   "cell_type": "markdown",
   "id": "0f5956cf",
   "metadata": {},
   "source": [
    "1.2. **Train** the collaborative filtering system and select optimal hyperparameters on training dataset (80\\%) using 5-fold cross validation. Use the RSME metric to evaluate your system in each split. (You can use the Surprise library for this) <br>"
   ]
  },
  {
   "cell_type": "code",
<<<<<<< HEAD
   "execution_count": 29,
=======
   "execution_count": 27,
>>>>>>> 4821f62b7f17efca60ce6f7c38e3509587088ba3
   "id": "b4379cf9",
   "metadata": {},
   "outputs": [],
   "source": [
    "from surprise import Dataset, Reader\n",
    "from surprise import SVD\n",
    "from surprise.model_selection import cross_validate, train_test_split\n"
   ]
  },
  {
   "cell_type": "code",
<<<<<<< HEAD
   "execution_count": 30,
=======
   "execution_count": 28,
>>>>>>> 4821f62b7f17efca60ce6f7c38e3509587088ba3
   "id": "bc0b84d2",
   "metadata": {},
   "outputs": [],
   "source": [
    "small_ratings = ratings.sample(frac=0.01, random_state=42) #had to take a fraction of the dataset because by kernel dies\n",
    "reader = Reader(rating_scale=(1, 5))\n",
    "data = Dataset.load_from_df(ratings[['userId', 'movieId', 'rating']], reader)"
   ]
  },
  {
   "cell_type": "code",
<<<<<<< HEAD
   "execution_count": 31,
=======
   "execution_count": 29,
>>>>>>> 4821f62b7f17efca60ce6f7c38e3509587088ba3
   "id": "a4d97d02",
   "metadata": {},
   "outputs": [],
   "source": [
    "trainset, testset = train_test_split(data, test_size=0.2)"
   ]
  },
  {
   "cell_type": "code",
   "execution_count": null,
   "id": "11fc9a65",
   "metadata": {},
   "outputs": [],
   "source": [
    "algo = SVD()\n",
    "\n",
    "# Run 5-fold cross-validation and print \n",
    "cross_validate(algo, data, measures=['RMSE'], cv=5, verbose=True)\n"
   ]
  },
  {
   "cell_type": "code",
   "execution_count": null,
   "id": "e4992480",
   "metadata": {},
   "outputs": [],
   "source": [
    "from surprise.model_selection import GridSearchCV\n",
    "\n",
    "param_grid = {\n",
    "    'n_epochs': [5, 10, 20],\n",
    "    'lr_all': [0.002, 0.005, 0.01],\n",
    "    'reg_all': [0.2, 0.4, 0.6]\n",
    "}\n",
    "\n",
    "gs = GridSearchCV(SVD, param_grid, measures=['rmse'], cv=5)\n",
    "gs.fit(data)\n",
    "\n",
    "# Best RMSE score\n",
    "print(gs.best_score['rmse'])\n",
    "\n",
    "# Best hyperparameters\n",
    "print(gs.best_params['rmse'])\n"
   ]
  },
  {
   "cell_type": "code",
   "execution_count": null,
   "id": "fc306388",
   "metadata": {},
   "outputs": [],
   "source": [
    "# Use best parameters from grid search\n",
    "algo = SVD(n_epochs=gs.best_params['rmse']['n_epochs'],\n",
    "           lr_all=gs.best_params['rmse']['lr_all'],\n",
    "           reg_all=gs.best_params['rmse']['reg_all'])\n",
    "\n",
    "algo.fit(trainset)\n",
    "predictions = algo.test(testset)\n",
    "\n",
    "from surprise import accuracy\n",
    "accuracy.rmse(predictions)\n",
    "\n"
   ]
  },
  {
   "cell_type": "markdown",
   "id": "aa3e57e8",
   "metadata": {},
   "source": [
    "1.3. **Implement** the MAE and RMSE functions from scratch to compute the two types of error in the following (input parameters are two vectors):\n",
    "True ratings of a user: `` [2,3,4,2,1,1,1,2,3,4,5,6] `` \n",
    "Predicted ratings of a user: `` [2.1,3.5,2,1,1.5,1.3,0.8,1.5,1.1,4.5,5,6.1] ``"
   ]
  },
  {
   "cell_type": "code",
   "execution_count": null,
   "id": "f86dfbaf",
   "metadata": {},
   "outputs": [],
   "source": [
    "def MAE(y_true, y_pred):\n",
    "    assert len(y_true) == len(y_pred), \"Both vectors should be of same length\"\n",
    "    N = len(y_true)\n",
    "    mae = sum(abs(y_true[i] - y_pred[i]) for i in range(N)) / N\n",
    "    return mae"
   ]
  },
  {
   "cell_type": "code",
   "execution_count": null,
   "id": "2461dbec",
   "metadata": {},
   "outputs": [],
   "source": [
    "def RMSE(y_true, y_pred):\n",
    "    assert len(y_true) == len(y_pred), \"Both vectors should be of same length\"\n",
    "    N = len(y_true)\n",
    "    rmse = sum((y_true[i] - y_pred[i])**2 for i in range(N))\n",
    "    rmse = (rmse / N)**0.5\n",
    "    return rmse"
   ]
  },
  {
   "cell_type": "code",
   "execution_count": null,
   "id": "1ec793a6",
   "metadata": {},
   "outputs": [],
   "source": [
    "y_true = [2,3,4,2,1,1,1,2,3,4,5,6]\n",
    "y_pred = [2.1,3.5,2,1,1.5,1.3,0.8,1.5,1.1,4.5,5,6.1]\n",
    "\n",
    "mae = MAE(y_true, y_pred)\n",
    "rmse = RMSE(y_true, y_pred)\n",
    "\n",
    "print(f\"MAE: {mae}\")\n",
    "print(f\"RMSE: {rmse}\")"
   ]
  },
  {
   "cell_type": "markdown",
   "id": "438fb695",
   "metadata": {},
   "source": [
    "## Task 2: Content-Based Recommendation\n",
    "\n",
    "Implement a new recommendation algorithm that uses the MovieLens Tag Genome to recommend movies that are similar to a user's rated movies. The Tag Genome comes with the ML-33M data set, in the genome-scores.csv\n",
    "file. This file contains three columns: movie ID, tag ID, and relevance (the meaning of the tag IDs is in genome-tags.csv). It is complete, in that it has relevance scores for every movie for a large number of tags, although it does not cover every movie in the MovieLens data. You can think of this file as defining a vector for every movie: an approximately 1100-dimensional vector describing the movie in terms of Tag Genome tags. \n",
    "\n",
    "### Objectives\n",
    "2.1. Write an algorithm by:\n",
    "* Computing a user tag vector by taking the average of the tag vectors for the movies the user has watched, weighted by their rating (that is, the user's value for a tag is the average of their movies' value for that tag. You can do this relatively efficiently with NumPy vectorized operations.).\n",
    "* Select a user and get the top 10 recommendations that have not been rated by that user before. This is done by computing the Pearson correlation between the user tag vector and each of the movie's tag vector not rated by the user.\n",
    "* Suppose that the content based filtering of Task 1 is an ideal state-of-the-art system where it always outputs an ideal relevant top 10 recommendation movies. How do these recommendations of this task compare to the content-based filtering done in Task 1 for the same user you selected? Implement and compute the nDCG@10 from scratch of the ranking of that user. Example:\n",
    " \n",
    " Ideal system ranking for user i (fixed): ``[1,1,1,1,1,1,1,1,1,1]`` <br>\n",
    " An example of your algorithm output ranking for user i: ``[0,1,0,1,1,0,1,0,1,1]`` <br>\n",
    " \n",
    " where 1 in the ideal ranking indicates that the item is relevant, and 1 in your algorithm indicates that the item is relevant because it is found in the rankings of the ideal system regardless of the position of the item in the ranking@10."
   ]
  },
  {
   "cell_type": "code",
   "execution_count": null,
   "id": "ff1809dd",
   "metadata": {},
   "outputs": [],
   "source": []
  },
  {
   "cell_type": "code",
   "execution_count": null,
   "id": "a324609f",
   "metadata": {},
   "outputs": [],
   "source": []
  }
 ],
 "metadata": {
  "kernelspec": {
   "display_name": "Python 3 (ipykernel)",
   "language": "python",
   "name": "python3"
  },
  "language_info": {
   "codemirror_mode": {
    "name": "ipython",
    "version": 3
   },
   "file_extension": ".py",
   "mimetype": "text/x-python",
   "name": "python",
   "nbconvert_exporter": "python",
   "pygments_lexer": "ipython3",
   "version": "3.10.12"
  }
 },
 "nbformat": 4,
 "nbformat_minor": 5
}
